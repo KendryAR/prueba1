{
  "nbformat": 4,
  "nbformat_minor": 0,
  "metadata": {
    "colab": {
      "provenance": [],
      "authorship_tag": "ABX9TyNt6XkpDOC2pohDpGtYklmH",
      "include_colab_link": true
    },
    "kernelspec": {
      "name": "python3",
      "display_name": "Python 3"
    },
    "language_info": {
      "name": "python"
    }
  },
  "cells": [
    {
      "cell_type": "markdown",
      "metadata": {
        "id": "view-in-github",
        "colab_type": "text"
      },
      "source": [
        "<a href=\"https://colab.research.google.com/github/KendryAR/prueba1/blob/main/Copia_de_Ejercicios2.ipynb\" target=\"_parent\"><img src=\"https://colab.research.google.com/assets/colab-badge.svg\" alt=\"Open In Colab\"/></a>"
      ]
    },
    {
      "cell_type": "code",
      "execution_count": null,
      "metadata": {
        "colab": {
          "base_uri": "https://localhost:8080/"
        },
        "id": "RL9dEODALMFv",
        "outputId": "838d01a9-cb37-44c3-f3d0-eb19b8da98a9"
      },
      "outputs": [
        {
          "output_type": "stream",
          "name": "stdout",
          "text": [
            "Ingrese zona (1 - Comercial, 2 - Residencial): 2\n",
            "Ingrese consumo en kilovatios: 245\n",
            "El monto a pagar es: $156.50\n"
          ]
        }
      ],
      "source": [
        "# EJERCICIO 1\n",
        "\n",
        "class Gerente():\n",
        "    def __init__(self, zona, consumo):\n",
        "        self.zona = zona\n",
        "        self.consumo = consumo\n",
        "\n",
        "    def calcular_monto(self):\n",
        "        if self.zona == 1:\n",
        "            tarifa_fija = 50\n",
        "            if self.consumo <= 100:\n",
        "                return tarifa_fija + self.consumo * 0.75\n",
        "            else:\n",
        "                return tarifa_fija + (100 * 0.75) + (self.consumo - 100) * 0.90\n",
        "\n",
        "        elif self.zona == 2:\n",
        "            tarifa_fija = 25\n",
        "            if self.consumo <= 100:\n",
        "                return tarifa_fija + self.consumo * 0.30\n",
        "            else:\n",
        "                return tarifa_fija + (100 * 0.30) + (self.consumo - 100) * 0.70\n",
        "\n",
        "\n",
        "zona = int(input(\"Ingrese zona (1 - Comercial, 2 - Residencial): \"))\n",
        "consumo = int(input(\"Ingrese consumo en kilovatios: \"))\n",
        "cliente = Gerente(zona, consumo)\n",
        "print(f\"El monto a pagar es: ${cliente.calcular_monto():.2f}\")\n"
      ]
    },
    {
      "cell_type": "code",
      "source": [
        "# EJERCICIO 2\n",
        "\n",
        "def calcularmonto(escala, ncursos):\n",
        " if escala == \"A\":\n",
        "  if ncursos <= 5:\n",
        "   variable = 400\n",
        "  elif ncursos <= 8:\n",
        "   variabl = 600\n",
        "  else:\n",
        "   variable = 900\n",
        " elif escala == \"B\":\n",
        "  if ncursos <= 3:\n",
        "   variable = 350\n",
        "  elif ncursos <= 7:\n",
        "   variable= 500\n",
        "  else:\n",
        "   variable = 700\n",
        " elif escala== \"C\":\n",
        "  if ncursos <= 3:\n",
        "   variable = 320\n",
        "  elif ncursos <= 7:\n",
        "   variable = 480\n",
        "  else:\n",
        "   variable = 685\n",
        " elif escala == \"D\":\n",
        "  if ncursos <= 4:\n",
        "   variable= 310\n",
        "  elif ncursos <= 8:\n",
        "   variable = 475\n",
        "  else:\n",
        "   variable = 680\n",
        "\n",
        " cuota_fija= 350.00\n",
        " total= cuota_fija + variable\n",
        " return total\n",
        "\n",
        "\n",
        "escala = input(\"Ingresa la escala de pago: \").upper()\n",
        "numcurso= int(input(\"Ingresa el número de cursos: \"))\n",
        "\n",
        "monto = calcularmonto(escala, numcurso)\n",
        "print(\"El monto a pagar es:\", monto)"
      ],
      "metadata": {
        "colab": {
          "base_uri": "https://localhost:8080/"
        },
        "id": "UqtjVoX3PCR4",
        "outputId": "6bc409ed-2760-4e79-d347-c80f8554f3d2"
      },
      "execution_count": null,
      "outputs": [
        {
          "output_type": "stream",
          "name": "stdout",
          "text": [
            "Ingresa la escala de pago: C\n",
            "Ingresa el número de cursos: 9\n",
            "El monto a pagar es: 1035.0\n"
          ]
        }
      ]
    },
    {
      "cell_type": "code",
      "source": [
        "#EJERCICIO 3\n",
        "\n",
        "class Triangulo:\n",
        "    def __init__(self, lado1, lado2, lado3):\n",
        "        self.lado1 = lado1\n",
        "        self.lado2 = lado2\n",
        "        self.lado3 = lado3\n",
        "\n",
        "    def determinar_tipo(self):\n",
        "        if self.lado1 == self.lado2 == self.lado3:\n",
        "            return \"Equilátero\"\n",
        "        elif self.lado1 != self.lado2 != self.lado3:\n",
        "            return \"Escaleno\"\n",
        "        else:\n",
        "            return \"Isósceles\"\n",
        "\n",
        "\n",
        "if __name__ == \"__main__\":\n",
        "    lado1 = float(input(\"Ingresa la longitud del primer lado: \"))\n",
        "    lado2 = float(input(\"Ingresa la longitud del segundo lado: \"))\n",
        "    lado3 = float(input(\"Ingresa la longitud del tercer lado: \"))\n",
        "\n",
        "    triangulo_actual = Triangulo(lado1, lado2, lado3)\n",
        "    tipo_triangulo = triangulo_actual.determinar_tipo()\n",
        "\n",
        "    print(f\"El triángulo es de tipo {tipo_triangulo}.\")\n"
      ],
      "metadata": {
        "colab": {
          "base_uri": "https://localhost:8080/"
        },
        "id": "3rv4E6BSeFCp",
        "outputId": "92ae1d50-2e71-4176-e31c-72b08301e791"
      },
      "execution_count": null,
      "outputs": [
        {
          "output_type": "stream",
          "name": "stdout",
          "text": [
            "Ingresa la longitud del primer lado: 5\n",
            "Ingresa la longitud del segundo lado: 5\n",
            "Ingresa la longitud del tercer lado: 5\n",
            "El triángulo es de tipo Equilátero.\n"
          ]
        }
      ]
    },
    {
      "cell_type": "code",
      "source": [
        "#EJERCICIO 4\n",
        "\n",
        "# Obtener los coeficientes a, b y c\n",
        "a = float(input(\"Introduce el coeficiente a: \"))\n",
        "b = float(input(\"Introduce el coeficiente b: \"))\n",
        "c = float(input(\"Introduce el coeficiente c: \"))\n",
        "\n",
        "# Calcular el discriminante\n",
        "delta = b**2 - 4*a*c\n",
        "\n",
        "# Verificar el valor del discriminante\n",
        "if delta > 0:\n",
        "    # Dos raíces reales\n",
        "    x1 = (-b + delta**0.5) / (2*a)\n",
        "    x2 = (-b - delta**0.5) / (2*a)\n",
        "    print(f\"Las raíces reales son: {x1:.2f} y {x2:.2f}\")\n",
        "elif delta == 0:\n",
        "    # Raíz doble\n",
        "    x = -b / (2*a)\n",
        "    print(f\"La raíz doble es: {x}\")\n",
        "else:\n",
        "    # Raíces imaginarias\n",
        "    print(\"SON RAÍCES COMPLEJAS\")\n"
      ],
      "metadata": {
        "colab": {
          "base_uri": "https://localhost:8080/"
        },
        "id": "qM1jyYqMkIGk",
        "outputId": "0f1127c8-d492-4eb2-a70f-68be9a61abee"
      },
      "execution_count": null,
      "outputs": [
        {
          "output_type": "stream",
          "name": "stdout",
          "text": [
            "Introduce el coeficiente a: 3\n",
            "Introduce el coeficiente b: 6\n",
            "Introduce el coeficiente c: 1\n",
            "Las raíces reales son: -0.18 y -1.82\n"
          ]
        }
      ]
    },
    {
      "cell_type": "code",
      "source": [
        "#EJERCICIO 5\n",
        "\n",
        "numero = int(input(\"Ingrese un número de 4 dígitos: \"))\n",
        "\n",
        "digito1 = numero // 1000\n",
        "digito2 = (numero // 100) % 10\n",
        "digito3 = (numero // 10) % 10\n",
        "digito4 = numero % 10\n",
        "suma_digitos = digito1 + digito2 + digito3 + digito4\n",
        "\n",
        "# Verificar si el número es palindrómico\n",
        "es_Palicua = numero == int(str(numero)[::-1])\n",
        "\n",
        "# Contar cuántos dígitos son números primos\n",
        "def es_primo(n):\n",
        "    if n < 2:\n",
        "        return False\n",
        "    for i in range(2, int(n**0.5) + 1):\n",
        "        if n % i == 0:\n",
        "            return False\n",
        "    return True\n",
        "\n",
        "contador_primos = sum(es_primo(digito) for digito in [digito1, digito2, digito3, digito4])\n",
        "\n",
        "print(f\"La suma de los dígitos es: {suma_digitos}\")\n",
        "print(f\"¿El número es Palicua? {'Sí' if es_Palicua else 'No'}\")\n",
        "print(f\"Cantidad de dígitos primos: {contador_primos}\")\n"
      ],
      "metadata": {
        "colab": {
          "base_uri": "https://localhost:8080/"
        },
        "id": "KnDPU6YPnLCS",
        "outputId": "81582267-d1af-40f6-f9bf-9c077367c40f"
      },
      "execution_count": null,
      "outputs": [
        {
          "output_type": "stream",
          "name": "stdout",
          "text": [
            "Ingrese un número de 4 dígitos: 123\n",
            "La suma de los dígitos es: 6\n",
            "¿El número es Palicua? No\n",
            "Cantidad de dígitos primos: 2\n"
          ]
        }
      ]
    },
    {
      "cell_type": "code",
      "source": [
        "#ejercicio 6\n",
        "\n",
        "def calcular_costo(fabricante, tipo_programa, dispositivo):\n",
        "  precios = {\n",
        "    'M': {\n",
        "      'S': {'C': 1500, 'T': 1800, 'O': 1200},\n",
        "      'L': {'C': 900, 'T': 900, 'O': 900}\n",
        "    },\n",
        "    'A': {\n",
        "      'S': {'C': 2500, 'T': 1900, 'O': 1800},\n",
        "      'L': {'C': 1600, 'T': 1600, 'O': 1600}\n",
        "    },\n",
        "    'L': {\n",
        "      'S': {'C': 1000, 'T': 100, 'O': 150},\n",
        "      'L': {'C': 50, 'T': 50, 'O': 50}\n",
        "    }\n",
        "  }\n",
        "\n",
        "  if fabricante not in precios or tipo_programa not in precios[fabricante] or dispositivo not in precios[fabricante][tipo_programa]:\n",
        "    return \"Error: Selección no válida\"\n",
        "  return precios[fabricante][tipo_programa][dispositivo]\n",
        "\n",
        "try:\n",
        "  fabricante = input(\"Ingrese el fabricante (M: Microsoft, A: Apple, L: Linux): \").upper()\n",
        "  tipo_programa = input(\"Ingrese el tipo de programa (S: Sistema operativo, L: Lenguaje de programación): \").upper()\n",
        "  dispositivo = input(\"Ingrese el dispositivo (C: Celular, T: Tabla, O: Otros): \").upper()\n",
        "  costo = calcular_costo(fabricante, tipo_programa, dispositivo)\n",
        "  if isinstance(costo, str):\n",
        "    print(costo)\n",
        "  else:\n",
        "   print(\"El costo total por la compra del programa elegido es:\", costo)\n",
        "\n",
        "except KeyboardInterrupt:\n",
        "  print(\"\\nPrograma interrumpido por el usuario.\")\n",
        "except Exception as e:\n",
        "  print(\"Error:\", e)"
      ],
      "metadata": {
        "colab": {
          "base_uri": "https://localhost:8080/"
        },
        "id": "Hnm8IUPwpa9m",
        "outputId": "5f4c13df-3560-44d0-cd20-19fea637abea"
      },
      "execution_count": null,
      "outputs": [
        {
          "output_type": "stream",
          "name": "stdout",
          "text": [
            "Ingrese el fabricante (M: Microsoft, A: Apple, L: Linux): L\n",
            "Ingrese el tipo de programa (S: Sistema operativo, L: Lenguaje de programación): S\n",
            "Ingrese el dispositivo (C: Celular, T: Tabla, O: Otros): T\n",
            "El costo total por la compra del programa elegido es: 100\n"
          ]
        }
      ]
    }
  ]
}